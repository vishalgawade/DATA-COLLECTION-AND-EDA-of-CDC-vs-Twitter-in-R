{
 "cells": [
  {
   "cell_type": "code",
   "execution_count": 2,
   "metadata": {},
   "outputs": [],
   "source": [
    "#Team Members : Deepak Goyal (dgoyal2) & Vishal Shivaji Gawade(vgawade)"
   ]
  },
  {
   "cell_type": "markdown",
   "metadata": {},
   "source": [
    "1)Influenza national summary (green and yellow chart)-WEEK"
   ]
  },
  {
   "cell_type": "code",
   "execution_count": 8,
   "metadata": {},
   "outputs": [
    {
     "data": {},
     "metadata": {},
     "output_type": "display_data"
    },
    {
     "data": {
      "text/html": [
       "<strong>png:</strong> 2"
      ],
      "text/latex": [
       "\\textbf{png:} 2"
      ],
      "text/markdown": [
       "**png:** 2"
      ],
      "text/plain": [
       "png \n",
       "  2 "
      ]
     },
     "metadata": {},
     "output_type": "display_data"
    }
   ],
   "source": [
    "png(\"Influenza_US_Clinical_Laboratories_National_Summary_Week.png\")\n",
    "library(ggmap)\n",
    "# influenza <- read.csv(\"WHO_NREVSS_Clinical_Labs.csv\", sep = \",\")\n",
    "influenza <- read.csv(\"WHO_NREVSS_Clinical_Labs_Week.csv\", sep = \",\")\n",
    "dfA<-influenza$TOTAL.A\n",
    "dfB<-influenza$TOTAL.B\n",
    "# print(dfA)\n",
    "# print(dfB)\n",
    "dfC<-dfA+dfB\n",
    "ggplot(influenza) + \n",
    "geom_bar(aes(x = factor(YEARWEEK), y = TOTAL.A, fill = \"A\"), stat = \"identity\", color = \"black\", width = 1,size=0.2) + \n",
    "geom_bar(aes(x = factor(YEARWEEK), y = TOTAL.B,fill=\"B\"), stat = \"identity\", color = \"black\", width = 1,size=0.2) + \n",
    "geom_line(aes(x = factor(YEARWEEK), y = PERCENT.A * 400, color=\"% Positive Flu A\"),stat = \"identity\", group = 1, linetype =3, size = .3) + \n",
    "geom_line(aes(x = factor(YEARWEEK), y = PERCENT.B * 400, color=\"% Positive Flu B\" ),stat = \"identity\", group = 1, linetype =3, size = .3) + \n",
    "geom_line(aes(x = factor(YEARWEEK), y = PERCENT.POSITIVE * 400,color=\"Percent Positive\"),stat = \"identity\", group = 1, size = 0.3) + \n",
    "ggtitle(\"Influenza Positive Tests Reported to CDC by U.S. Clinical Laboratories,National Summary, 2018-2019 Season\") + \n",
    "scale_y_continuous(breaks = seq(0, 18000, by = 2000), sec.axis = sec_axis(~./400, breaks = seq(0, 30, by = 5), name = \"Percent Positive\"), expand=c(0,0)) +\n",
    "scale_fill_manual(name = \"\", values = c('A' = 'yellow', 'B'='green')) + \n",
    "scale_color_manual(values=c(\"red\", \"blue\", \"black\"))+\n",
    "labs(x = \"Week\", y = \"Number of Positive Specimens\") +\n",
    "theme(legend.title=element_blank(),axis.text.x = element_text(vjust = .5, size = 6, angle=90), plot.title = element_text(hjust = 0.5,size = 7))\n",
    "dev.off()"
   ]
  },
  {
   "cell_type": "markdown",
   "metadata": {},
   "source": [
    "As we can see from the graph of Influenza Positive Tests Reported to CDC by U.S. Clinical Laboratories,National Summary, There is an increase in number of cases of FLU A type, there is a minor increase of number of cases of FLU B type."
   ]
  },
  {
   "cell_type": "markdown",
   "metadata": {},
   "source": [
    "2)Positive tested-WEEK"
   ]
  },
  {
   "cell_type": "code",
   "execution_count": 10,
   "metadata": {},
   "outputs": [
    {
     "data": {},
     "metadata": {},
     "output_type": "display_data"
    },
    {
     "data": {
      "text/html": [
       "<strong>png:</strong> 2"
      ],
      "text/latex": [
       "\\textbf{png:} 2"
      ],
      "text/markdown": [
       "**png:** 2"
      ],
      "text/plain": [
       "png \n",
       "  2 "
      ]
     },
     "metadata": {},
     "output_type": "display_data"
    }
   ],
   "source": [
    "png(\"Influenza_US_Public_Health_Laboratories_National_Summary_Week.png\")\n",
    "library(reshape2)\n",
    "library(ggmap)\n",
    "# influenza <- read.csv(\"WHO_NREVSS_Public_Health_Labs.csv\", sep = \",\")[,4:11]\n",
    "influenza <- read.csv(\"WHO_NREVSS_Public_Health_Labs_Week.csv\", sep = \",\")[,6:13]\n",
    "melted <- melt(influenza,id.vars = \"YEARWEEK\")\n",
    "ggplot(melted, aes(x = factor(YEARWEEK), y = value, fill = variable) ) + \n",
    "geom_bar(stat = \"identity\", color = \"black\", size = .2)+ \n",
    "scale_fill_manual(values=c(\"#E69F00\",\"#56B4E9\", \"#009E73\", \"#F0E442\", \"gray\", \"#D55E00\", \"#000099\"),\n",
    "labels=c(\"A (subtyping not performed)\",\"A (H1N1)pdm09\",\"A (H3N2)\",\"H3N2v\",\"B (lineage not performed)\", \"B (Victoria Lineage)\", \"B (Yamagata Lineage)\")) + \n",
    "ggtitle(\"Influenza Positive Tests Reported to CDC by U.S. Public Health Laboratories,National Summary, 2018-2019 Season\") + \n",
    "scale_y_continuous(breaks = seq(0, 30000, by = 500),expand=c(0,0)) +\n",
    "labs(x = \"Week\", y = \"Number of Positive Specimens\") +\n",
    "theme(legend.title=element_blank(),axis.text.x = element_text(vjust = .5, size = 6, angle=90), plot.title = element_text(hjust = 0.5,size = 7))\n",
    "dev.off()"
   ]
  },
  {
   "cell_type": "markdown",
   "metadata": {},
   "source": [
    "As we can see from the graph of Influenza Positive Tests Reported to CDC by U.S. Public Health Laboratories,National Summary, There is an increase in number of cases of A(H3N2) & A(H1N1) from previous weeks, the rest have minor changes in number of cases from previous weeks"
   ]
  },
  {
   "cell_type": "code",
   "execution_count": null,
   "metadata": {},
   "outputs": [],
   "source": [
    "3) Influenza-like illness"
   ]
  },
  {
   "cell_type": "code",
   "execution_count": 21,
   "metadata": {
    "scrolled": false
   },
   "outputs": [
    {
     "data": {},
     "metadata": {},
     "output_type": "display_data"
    },
    {
     "data": {
      "text/html": [
       "<strong>png:</strong> 2"
      ],
      "text/latex": [
       "\\textbf{png:} 2"
      ],
      "text/markdown": [
       "**png:** 2"
      ],
      "text/plain": [
       "png \n",
       "  2 "
      ]
     },
     "metadata": {},
     "output_type": "display_data"
    },
    {
     "data": {
      "text/html": [
       "<strong>png:</strong> 2"
      ],
      "text/latex": [
       "\\textbf{png:} 2"
      ],
      "text/markdown": [
       "**png:** 2"
      ],
      "text/plain": [
       "png \n",
       "  2 "
      ]
     },
     "metadata": {},
     "output_type": "display_data"
    }
   ],
   "source": [
    "png(\"Influenza_US_Public_Health_Laboratories_Pie_Charts.png\")\n",
    "library(ggplot2)\n",
    "library(reshape2)\n",
    "\n",
    "influenza <- read.csv(\"WHO_NREVSS_Public_Health_Labs_Week_Pie_Chart.csv\" , sep = \",\")\n",
    "melted <- melt(influenza,id.vars = \"YEARWEEK\")\n",
    "melted <- aggregate(melted$value, by=list(Category = melted$variable), FUN=sum)\n",
    "melted <- melted[c(3,2,1,6,7,5),]\n",
    "melted$Category <- as.character(melted$Category)\n",
    "pie_chart <-ggplot(melted, aes(x=\"\", y=x, fill = Category))+ geom_bar(width = 1, stat = \"identity\") + \n",
    "coord_polar(\"y\", start=90) + theme(axis.text.x = element_blank(),panel.background = element_blank(),axis.title.x = element_blank(),axis.title.y = element_blank()) +\n",
    "scale_fill_manual(values=c(\"#FFA500\", \"#FF0000\", \"#96CB7F\", \"#32CD32\", \"#228B22\", \"#FFFF99\")) + \n",
    "ggtitle(\"Influenza Positive Specimens Reported by U.S. Public Health Laboratories, \\n Cumulative, 2018 - 2019 Season\") +\n",
    "geom_text(aes(label = x), position = position_stack(vjust = 0.5), size = 2.5) \n",
    "pie_chart\n",
    "dev.off()\n",
    "png(\"Influenza_US_Public_Health_Laboratories_Sub_Pie_Charts.png\")\n",
    "pie_subchart <- read.csv(\"WHO_NREVSS_Public_Health_Labs_Week_Sub_Pie_Chart.csv\" , sep = \",\")\n",
    "pie_subchart$percent <- as.numeric(sub(\"%\", \"\",pie_subchart$X..of..Sub.type.Total,fixed=TRUE)) \n",
    "pie_subchart['labels_col'] <- (paste(pie_subchart$Sequence_Genetic_Group, pie_subchart$Distinct_count_of_Cdc_Id, pie_subchart$X..of..Sub.type.Total, sep = ' '))\n",
    "pie_subchart_1 <- subset(pie_subchart, X.Sub.type == \"H3N2\")\n",
    "pie_subchart_2 <- subset(pie_subchart, X.Sub.type == \"H1N1\")\n",
    "pie_subchart_3 <- subset(pie_subchart, X.Sub.type == \"B/Victoria\")\n",
    "pie_subchart_4 <- subset(pie_subchart, X.Sub.type == \"B/Yamagata\")\n",
    "par(mfrow=c(2,2))\n",
    "pie_subchart_1 <- pie(pie_subchart_1$percent, labels = pie_subchart_1$labels_col, main=\"Influenza A (H3N2)\", col = c(\"red\",\"red\",\"red\"),density=c(100,50,400))\n",
    "pie_subchart_2 <- pie(pie_subchart_2$percent, labels = pie_subchart_2$labels_col, main=\"Influenza A (H1N1) pdm09\", col = c(\"#FFA500\"), density = 50)\n",
    "pie_subchart_3 <- pie(pie_subchart_3$percent, labels = pie_subchart_3$labels_col, main=\"Influenza B Victoria\", col = c(\"#008000\",\"#32CD32\"),density=c(100,50))\n",
    "pie_subchart_4 <- pie(pie_subchart_4$percent, labels = pie_subchart_4$labels_col, main=\"Influenza B Yamagata\", col = c(\"#008000\"), density = 100)\n",
    "dev.off()"
   ]
  },
  {
   "cell_type": "markdown",
   "metadata": {},
   "source": [
    "As we can see from the graph of Influenza Positive Specimens Reported by U.S. Public Health Laboratories,National Summary, Influenza type A(H1N1) have the most number of cases amongest the other types. AFter A(H1N1), A(H3N2) have second most number of cases. The other types are less in numbers as compared to A(H1N1) & A(H3N2)."
   ]
  },
  {
   "cell_type": "markdown",
   "metadata": {},
   "source": [
    "4)Mortality"
   ]
  },
  {
   "cell_type": "code",
   "execution_count": 9,
   "metadata": {
    "scrolled": false
   },
   "outputs": [
    {
     "name": "stderr",
     "output_type": "stream",
     "text": [
      "Warning message:\n",
      "\"Removed 3 rows containing missing values (geom_path).\"Warning message:\n",
      "\"Removed 3 rows containing missing values (geom_path).\"Warning message:\n",
      "\"Removed 3 rows containing missing values (geom_path).\""
     ]
    },
    {
     "data": {},
     "metadata": {},
     "output_type": "display_data"
    },
    {
     "data": {
      "text/html": [
       "<strong>png:</strong> 2"
      ],
      "text/latex": [
       "\\textbf{png:} 2"
      ],
      "text/markdown": [
       "**png:** 2"
      ],
      "text/plain": [
       "png \n",
       "  2 "
      ]
     },
     "metadata": {},
     "output_type": "display_data"
    }
   ],
   "source": [
    "png(\"Influenza_Mortality.png\")\n",
    "library(ggplot2)\n",
    "mortality <- read.csv(\"National_2014-19_Data.csv\") \n",
    "mortality$xlab <- as.Date(paste(paste(mortality$YEAR, mortality$WEEK), 1), \"%Y %U %u\")\n",
    "legend_title <- \"OMG My Title\"\n",
    "#print(mortality$xlab)\n",
    "ggplot(mortality) + \n",
    "geom_line(aes(y = THRESHOLD, x = xlab,color=\"Epidemic Threshold\"),stat = \"identity\", group = 1, size = 0.7) + \n",
    "geom_line(aes(y = BASELINE, x = xlab,color=\"Seasonal Baseline\"), stat = \"identity\", group = 1, size = 0.7) +\n",
    "geom_line(aes(y = PERCENTPI, x = xlab,color=\"Percent PI\"), , stat = \"identity\", group = 1, size = 0.7) + \n",
    "scale_x_date(date_breaks = \"10 week\", date_labels = \"%U\", expand=c(0,0)) +\n",
    "scale_color_manual(values=c(\"black\", \"red\", \"blue\"))+\n",
    "labs(x = \"MMWR Week\", y = \"% of All Deaths Due to P&I\") + \n",
    "annotate(\"text\", label = \"2014\", x = as.Date(\"2014-12-01\"), y = 4, size = 3) +\n",
    "annotate(\"text\",label = \"2015\",x = as.Date(\"2015-07-01\"), y = 4, size = 3) +  annotate(\"text\", label = \"2016\", x = as.Date(\"2016-08-01\"), y = 4, size = 3) +\n",
    "annotate(\"text\",label = \"2017\",x = as.Date(\"2017-08-01\"), y = 4, size = 3) + annotate(\"text\", label = \"2018\", x = as.Date(\"2018-10-01\"), y = 4, size = 3) + \n",
    "annotate(\"text\", label = \"2019\", x = as.Date(\"2019-01-01\"), y = 4, size = 3) +\n",
    "# scale_x_continuous(breaks = seq(10, 60, by = 10))+\n",
    "ggtitle(\"Pneumonia and Influenza Mortality from\\n The National Center for Health Statistics Mortality Survelliance System\") + \n",
    "# scale_fill_manual(legend_title,values=c(\"black\",\"blue\",\"red\")) +\n",
    "theme(legend.title=element_blank(),axis.text.x = element_text(face = \"bold\", size = 10, angle = 90, vjust = .5), plot.title = element_text(hjust = 0.5), panel.background = element_blank(), axis.line = element_line(color = \"black\", size = .8))\n",
    "dev.off()"
   ]
  },
  {
   "cell_type": "markdown",
   "metadata": {},
   "source": [
    "As we can see from the above graph, There is an slight decrease in Epidemic threshold and Seasonal Baseline every year as compared to previous year for same months."
   ]
  },
  {
   "cell_type": "markdown",
   "metadata": {},
   "source": [
    "5)Heat map"
   ]
  },
  {
   "cell_type": "code",
   "execution_count": 13,
   "metadata": {},
   "outputs": [
    {
     "data": {},
     "metadata": {},
     "output_type": "display_data"
    },
    {
     "data": {
      "text/html": [
       "<strong>png:</strong> 2"
      ],
      "text/latex": [
       "\\textbf{png:} 2"
      ],
      "text/markdown": [
       "**png:** 2"
      ],
      "text/plain": [
       "png \n",
       "  2 "
      ]
     },
     "metadata": {},
     "output_type": "display_data"
    }
   ],
   "source": [
    "png(\"Influenza_HeatMap.png\")\n",
    "library(ggmap)\n",
    "library(usmap)\n",
    "library(maps)\n",
    "#us <- map_data(\"state\")\n",
    "statedata <- read.csv(\"StateDataforMap_2018-19week4.csv\")\n",
    "statedata$activityval <- as.numeric(gsub(\"Level \",\"\",statedata$ACTIVITY.LEVEL))\n",
    "statedata$state <- tolower(statedata$STATENAME)\n",
    "#ggtitle(\"2018-19 Influenza Season Week 7 ending Feb 16, 2019\")+\n",
    "plot_usmap(data = statedata, values = \"activityval\", lines = \"black\") + \n",
    "  scale_fill_continuous(\n",
    "    low = \"green\", high = \"red\", name = \"ILI Activity Level\", label = scales::comma\n",
    "  ) + \n",
    "labs(title = \"2018-19 Influenza Season Week 4 ending Jan 26, 2019\") + \n",
    "theme(legend.position = \"right\")\n",
    "dev.off()"
   ]
  },
  {
   "cell_type": "markdown",
   "metadata": {},
   "source": [
    "As we can from the above graph, During week 4, the following ILI activity levels were experienced:\n",
    "\n",
    "1. States (Alabama, Alaska, Arkansas, Colorado, Connecticut, Georgia, Indiana, Kentucky, Louisiana, Massachusetts, Minnesota, Mississippi, Nebraska, New Jersey, New Mexico, New York, North Carolina, Oklahoma, Rhode Island, South Carolina, Texas, Utah, Vermont, Virginia, New York City) experienced high ILI activity.\n",
    "2. States (Arizona, Kansas, Maryland, Pennsylvania, Tennessee, West Virginia, Wyoming, Puerto Rico) experienced moderate ILI activity.\n",
    "3. States (California, District of Columbia, Florida, Hawaii, Idaho, Illinois, Iowa, Maine, Missouri, Nevada, New Hampshire, Oregon, South Dakota, Washington, Wisconsin) experienced low ILI activity.\n",
    "4. States (Delaware, Michigan, Montana, North Dakota, Ohio, Virgin Islands) experienced minimal ILI activity."
   ]
  },
  {
   "cell_type": "markdown",
   "metadata": {},
   "source": [
    "6)Influenza national summary (green and yellow chart)-YEAR"
   ]
  },
  {
   "cell_type": "code",
   "execution_count": 19,
   "metadata": {},
   "outputs": [
    {
     "data": {},
     "metadata": {},
     "output_type": "display_data"
    },
    {
     "data": {
      "text/html": [
       "<strong>png:</strong> 2"
      ],
      "text/latex": [
       "\\textbf{png:} 2"
      ],
      "text/markdown": [
       "**png:** 2"
      ],
      "text/plain": [
       "png \n",
       "  2 "
      ]
     },
     "metadata": {},
     "output_type": "display_data"
    }
   ],
   "source": [
    "#library(ggmap)\n",
    "png(\"Influenza_US_Clinical_Laboratories_National_Summary_Year.png\")\n",
    "influenza <- read.csv(\"WHO_NREVSS_Clinical_Labs.csv\", sep = \",\")\n",
    "# influenza <- read.csv(\"WHO_NREVSS_Clinical_Labs_Week.csv\", sep = \",\")\n",
    "dfA<-influenza$TOTAL.A\n",
    "dfB<-influenza$TOTAL.B\n",
    "# print(dfA)\n",
    "# print(dfB)\n",
    "dfC<-dfA+dfB\n",
    "ggplot(influenza) + \n",
    "geom_bar(aes(x = factor(YEARWEEK), y = TOTAL.A, fill = \"A\"), stat = \"identity\", color = \"black\", width = 1,size=0.2) + \n",
    "geom_bar(aes(x = factor(YEARWEEK), y = TOTAL.B,fill=\"B\"), stat = \"identity\", color = \"black\", width = 1,size=0.2) + \n",
    "geom_line(aes(x = factor(YEARWEEK), y = PERCENT.A * 400, color=\"% Positive Flu A\"),stat = \"identity\", group = 1, linetype =3, size = .3) + \n",
    "geom_line(aes(x = factor(YEARWEEK), y = PERCENT.B * 400, color=\"% Positive Flu B\" ),stat = \"identity\", group = 1, linetype =3, size = .3) + \n",
    "geom_line(aes(x = factor(YEARWEEK), y = PERCENT.POSITIVE * 400,color=\"Percent Positive\"),stat = \"identity\", group = 1, size = 0.3) + \n",
    "ggtitle(\"Influenza Positive Tests Reported to CDC by U.S. Clinical Laboratories,National Summary, 2018-2019 Season\") + \n",
    "scale_y_continuous(breaks = seq(0, 18000, by = 2000), sec.axis = sec_axis(~./400, breaks = seq(0, 30, by = 5), name = \"Percent Positive\"), expand=c(0,0)) +\n",
    "scale_fill_manual(name = \"\", values = c('A' = 'yellow', 'B'='green')) + \n",
    "scale_color_manual(values=c(\"red\", \"blue\", \"black\"))+\n",
    "labs(x = \"Week\", y = \"Number of Positive Specimens\") +\n",
    "theme(legend.title=element_blank(),axis.text.x = element_text(vjust = .5, size = 6, angle=90), plot.title = element_text(hjust = 0.5,size = 7))\n",
    "dev.off()"
   ]
  },
  {
   "cell_type": "markdown",
   "metadata": {},
   "source": [
    "As we can see from the above graph of Influenza Positive Tests Reported to CDC by U.S. Clinical Laboratories,National Summary, There is an decrease in number of cases of FLU B type after April-May 2018. After that there is minor variation in the number of cases for FLU B. FLU A also decreases from February, 2018 till August 2018. After August the number of cases of FLU A is increasing. Also, the number of cases decreases in the months from May to August."
   ]
  },
  {
   "cell_type": "code",
   "execution_count": null,
   "metadata": {},
   "outputs": [],
   "source": [
    "7)Positive tested-YEAR"
   ]
  },
  {
   "cell_type": "code",
   "execution_count": 3,
   "metadata": {},
   "outputs": [
    {
     "name": "stderr",
     "output_type": "stream",
     "text": [
      "ERROR while rich displaying an object: Error in FUN(X[[i]], ...): object 'AS' not found\n",
      "\n",
      "Traceback:\n",
      "1. FUN(X[[i]], ...)\n",
      "2. tryCatch(withCallingHandlers({\n",
      " .     rpr <- mime2repr[[mime]](obj)\n",
      " .     if (is.null(rpr)) \n",
      " .         return(NULL)\n",
      " .     prepare_content(is.raw(rpr), rpr)\n",
      " . }, error = error_handler), error = outer_handler)\n",
      "3. tryCatchList(expr, classes, parentenv, handlers)\n",
      "4. tryCatchOne(expr, names, parentenv, handlers[[1L]])\n",
      "5. doTryCatch(return(expr), name, parentenv, handler)\n",
      "6. withCallingHandlers({\n",
      " .     rpr <- mime2repr[[mime]](obj)\n",
      " .     if (is.null(rpr)) \n",
      " .         return(NULL)\n",
      " .     prepare_content(is.raw(rpr), rpr)\n",
      " . }, error = error_handler)\n",
      "7. mime2repr[[mime]](obj)\n",
      "8. repr_text.default(obj)\n",
      "9. paste(capture.output(print(obj)), collapse = \"\\n\")\n",
      "10. capture.output(print(obj))\n",
      "11. evalVis(expr)\n",
      "12. withVisible(eval(expr, pf))\n",
      "13. eval(expr, pf)\n",
      "14. eval(expr, pf)\n",
      "15. print(obj)\n",
      "16. print.ggplot(obj)\n",
      "17. ggplot_build(x)\n",
      "18. ggplot_build.ggplot(x)\n",
      "19. by_layer(function(l, d) l$compute_aesthetics(d, plot))\n",
      "20. f(l = layers[[i]], d = data[[i]])\n",
      "21. l$compute_aesthetics(d, plot)\n",
      "22. f(..., self = self)\n",
      "23. lapply(aesthetics, rlang::eval_tidy, data = data)\n",
      "24. FUN(X[[i]], ...)\n"
     ]
    },
    {
     "data": {},
     "metadata": {},
     "output_type": "display_data"
    },
    {
     "data": {
      "text/html": [
       "<strong>png:</strong> 2"
      ],
      "text/latex": [
       "\\textbf{png:} 2"
      ],
      "text/markdown": [
       "**png:** 2"
      ],
      "text/plain": [
       "png \n",
       "  2 "
      ]
     },
     "metadata": {},
     "output_type": "display_data"
    }
   ],
   "source": [
    "png(\"Influenza_US_Public_Health_Laboratories_National_Summary_Year.png\")\n",
    "library(rlang)\n",
    "library(ggplot2)\n",
    "library(reshape2)\n",
    "library(ggmap)\n",
    "influenza <- read.csv(\"WHO_NREVSS_Public_Health_Labs.csv\", sep = \",\")[,4:11]\n",
    "# influenza <- read.csv(\"WHO_NREVSS_Public_Health_Labs_Week.csv\", sep = \",\")[,6:13]\n",
    "melted <- melt(influenza,id.vars = \"YEARWEEK\")\n",
    "ggplot(melted, aes(x = factor(YEARWEEK), y = value, fill = variable) ) + \n",
    "geom_bar(stat = \"identity\", color = \"black\", size = .2)+ \n",
    "scale_fill_manual(values=c(\"#E69F00\",\"#56B4E9\", \"#009E73\", \"#F0E442\", \"gray\", \"#D55E00\", \"#000099\"),\n",
    "labels=c(\"A (subtyping not performed)\",\"A (H1N1)pdm09\",\"A (H3N2)\",\"H3N2v\",\"B (lineage not performed)\", \"B (Victoria Lineage)\", \"B (Yamagata Lineage)\")) + \n",
    "# ggplot(melted) + \n",
    "# geom_bar(aes(x = factor(YEARWEEK), y = BYam,fill=\"B (Yamagata Lineage)\"), stat = \"identity\", color = \"black\", width = 1,size=0.2) + \n",
    "# geom_bar(aes(x = factor(YEARWEEK), y = H3N2v,fill=\"H3N2v\"), stat = \"identity\", color = \"black\", width = 1,size=0.2) + \n",
    "# geom_bar(aes(x = factor(YEARWEEK), y = AH1,fill=\"A (H1N1)pdm09\"), stat = \"identity\", color = \"black\", width = 1,size=0.2) + \n",
    "# geom_bar(aes(x = factor(YEARWEEK), y = AH3,fill=\"A (H3N2)\"), stat = \"identity\", color = \"black\", width = 1,size=0.2) + \n",
    "# geom_bar(aes(x = factor(YEARWEEK), y = B,fill=\"B (Lineage not performed)\"), stat = \"identity\", color = \"black\", width = 1,size=0.2) + \n",
    "# geom_bar(aes(x = factor(YEARWEEK), y = BVic,fill=\"B (Victoria Lineage)\"), stat = \"identity\", color = \"black\", width = 1,size=0.2) +\n",
    "geom_bar(aes(x = factor(YEARWEEK), y = AS, fill = \"A (substyping not performed)\"), stat = \"identity\", color = \"black\", width = 1,size=0.2) +     \n",
    "ggtitle(\"Influenza Positive Tests Reported to CDC by U.S. Public Health Laboratories,National Summary, 2018-2019 Season\") + \n",
    "scale_y_continuous(breaks = seq(0, 30000, by = 500),expand=c(0,0)) +\n",
    "#     scale_fill_manual(name = \"\", values = c(\"A (substyping not performed)\"=\"#E69F00\", \"A (H1N1)pdm09\"=\"#56B4E9\",\n",
    "#                                             \"A (H3N2)\"=\"#009E73\", \n",
    "#                                  \"B (Lineage not performed)\"=\"#F0E442\", \"B (Victoria Lineage)\"=\"black\",\n",
    "#                                             \"B (Yamagata Lineage)\"=\"#D55E00\",\"H3N2v\"=\"#000099\"))+\n",
    "labs(x = \"Week\", y = \"Number of Positive Specimens\") +\n",
    "\n",
    "\n",
    "\n",
    "theme(legend.title=element_blank(),axis.text.x = element_text(vjust = .5, size = 6, angle=90), plot.title = element_text(hjust = 0.5,size = 7))\n",
    "dev.off()"
   ]
  },
  {
   "cell_type": "markdown",
   "metadata": {},
   "source": [
    "As we can see from the above graph of Influenza Positive Tests Reported to CDC by U.S. Public Health Laboratories,National Summary, There is an decrease in number of cases of FLU A(H3N2) & all types of FLU B cases type as compared to last year winter cases. On the other hand, there is increase in the number of cases of FLU A(H1N1) as compared to previous year winter. Also, the number of cases for all types of FLU A & FLU B decreases in the months from May to August."
   ]
  },
  {
   "cell_type": "code",
   "execution_count": null,
   "metadata": {},
   "outputs": [],
   "source": [
    "8)Influenza New York summary - Year"
   ]
  },
  {
   "cell_type": "code",
   "execution_count": 20,
   "metadata": {},
   "outputs": [
    {
     "data": {},
     "metadata": {},
     "output_type": "display_data"
    },
    {
     "data": {
      "text/html": [
       "<strong>png:</strong> 2"
      ],
      "text/latex": [
       "\\textbf{png:} 2"
      ],
      "text/markdown": [
       "**png:** 2"
      ],
      "text/plain": [
       "png \n",
       "  2 "
      ]
     },
     "metadata": {},
     "output_type": "display_data"
    }
   ],
   "source": [
    "# library(ggmap)\n",
    "png(\"Influenza_US_Clinical_Laboratories_State_Summary_New_York.png\")\n",
    "library(ggplot2)\n",
    "influenza <- read.csv(\"WHO_NREVSS_Clinical_Labs_New_York.csv\", sep = \",\")\n",
    "# influenza <- read.csv(\"WHO_NREVSS_Clinical_Labs_Week.csv\", sep = \",\")\n",
    "dfA<-influenza$TOTAL.A\n",
    "dfB<-influenza$TOTAL.B\n",
    "# print(dfA)\n",
    "# print(dfB)\n",
    "dfC<-dfA+dfB\n",
    "ggplot(influenza) + \n",
    "geom_bar(aes(x = factor(YEARWEEK), y = TOTAL.A, fill = \"A\"), stat = \"identity\", color = \"black\", width = 1,size=0.2) + \n",
    "geom_bar(aes(x = factor(YEARWEEK), y = TOTAL.B,fill=\"B\"), stat = \"identity\", color = \"black\", width = 1,size=0.2) + \n",
    "geom_line(aes(x = factor(YEARWEEK), y = PERCENT.A * 30, color=\"% Positive Flu A\"),stat = \"identity\", group = 1, linetype =3, size = .3) + \n",
    "geom_line(aes(x = factor(YEARWEEK), y = PERCENT.B * 30, color=\"% Positive Flu B\" ),stat = \"identity\", group = 1, linetype =3, size = .3) + \n",
    "geom_line(aes(x = factor(YEARWEEK), y = PERCENT.POSITIVE * 30,color=\"Percent Positive\"),stat = \"identity\", group = 1, size = 0.3) + \n",
    "ggtitle(\"Influenza Positive Tests Reported to CDC by U.S. Clinical Laboratories,State Summary (New York), 2018-2019 Season\") + \n",
    "scale_y_continuous(breaks = seq(0, 2000, by = 200), sec.axis = sec_axis(~./30, breaks = seq(0, 30, by = 5), name = \"Percent Positive\"), expand=c(0,0)) +\n",
    "scale_fill_manual(name = \"\", values = c('A' = 'yellow', 'B'='green')) + \n",
    "scale_color_manual(values=c(\"red\", \"blue\", \"black\"))+\n",
    "labs(x = \"Week\", y = \"Number of Positive Specimens\") +\n",
    "theme(legend.title=element_blank(),axis.text.x = element_text(vjust = .5, size = 6, angle=90), plot.title = element_text(hjust = 0.5,size = 7))\n",
    "dev.off()"
   ]
  },
  {
   "cell_type": "markdown",
   "metadata": {},
   "source": [
    "As we can see from the above graph of Influenza Positive Tests Reported to CDC by U.S. Clinical Laboratories,State Summary (New York), There is an decrease in number of cases of FLU B type after April-May 2018. After that there is minor variation in the number of cases for FLU B. FLU A also decreases from February, 2018 till August, 2018. After August,2018 the number of cases of FLU A is increasing.Also, the number of cases decreases for both FLU types A & B in the months from May to August."
   ]
  },
  {
   "cell_type": "code",
   "execution_count": null,
   "metadata": {},
   "outputs": [],
   "source": []
  }
 ],
 "metadata": {
  "kernelspec": {
   "display_name": "R",
   "language": "R",
   "name": "ir"
  },
  "language_info": {
   "codemirror_mode": "r",
   "file_extension": ".r",
   "mimetype": "text/x-r-source",
   "name": "R",
   "pygments_lexer": "r",
   "version": "3.5.1"
  }
 },
 "nbformat": 4,
 "nbformat_minor": 2
}
